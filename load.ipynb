{
 "cells": [
  {
   "cell_type": "code",
   "execution_count": 25,
   "metadata": {},
   "outputs": [
    {
     "ename": "ModuleNotFoundError",
     "evalue": "No module named 'dotenv'",
     "output_type": "error",
     "traceback": [
      "\u001b[0;31m---------------------------------------------------------------------------\u001b[0m",
      "\u001b[0;31mModuleNotFoundError\u001b[0m                       Traceback (most recent call last)",
      "Cell \u001b[0;32mIn[25], line 1\u001b[0m\n\u001b[0;32m----> 1\u001b[0m \u001b[39mfrom\u001b[39;00m \u001b[39mdotenv\u001b[39;00m \u001b[39mimport\u001b[39;00m load_dotenv\n\u001b[1;32m      2\u001b[0m load_dotenv()\n\u001b[1;32m      3\u001b[0m \u001b[39mimport\u001b[39;00m \u001b[39mos\u001b[39;00m\n",
      "\u001b[0;31mModuleNotFoundError\u001b[0m: No module named 'dotenv'"
     ]
    }
   ],
   "source": [
    "from dotenv import load_dotenv\n",
    "load_dotenv()\n",
    "import os\n",
    "import openai\n",
    "from pinecone import Pinecone, ServerlessSpec"
   ]
  },
  {
   "cell_type": "code",
   "execution_count": null,
   "metadata": {},
   "outputs": [],
   "source": [
    "pc = Pinecone(api_key=os.getenv(\"PINECONE_API_KEY\"))\n",
    "pc.create_index(\n",
    "    name=\"ai-rate-my-professor\", dimension=1536, metric=\"cosine\", spec=ServerlessSpec(cloud=\"aws\", region=\"us-east-1\")  \n",
    ")"
   ]
  },
  {
   "cell_type": "code",
   "execution_count": 26,
   "metadata": {},
   "outputs": [
    {
     "data": {
      "text/plain": [
       "[{'professor': 'Dr. Emma Williams',\n",
       "  'subject': 'Biology 101',\n",
       "  'stars': 4,\n",
       "  'review': 'Dr. Williams is very knowledgeable and passionate about biology. Her classes are engaging, but sometimes her exams are a bit too difficult.'},\n",
       " {'professor': 'Dr. James Brown',\n",
       "  'subject': 'World History',\n",
       "  'stars': 5,\n",
       "  'review': 'Dr. Brown is an excellent historian. His lectures are fascinating, and he provides plenty of context to help understand historical events.'},\n",
       " {'professor': 'Dr. Olivia Davis',\n",
       "  'subject': 'Calculus I',\n",
       "  'stars': 3,\n",
       "  'review': 'Dr. Davis is competent but her teaching style can be a bit dry. The material is challenging, but her office hours are helpful for clarifying doubts.'},\n",
       " {'professor': 'Dr. Liam Johnson',\n",
       "  'subject': 'Microeconomics',\n",
       "  'stars': 4,\n",
       "  'review': 'Dr. Johnson is a great professor who makes economics interesting. He uses real-world examples which help in understanding complex concepts.'},\n",
       " {'professor': 'Dr. Sophia Miller',\n",
       "  'subject': 'Introduction to Sociology',\n",
       "  'stars': 5,\n",
       "  'review': 'Dr. Miller is fantastic! Her lectures are interactive and she encourages critical thinking. A truly inspiring professor.'},\n",
       " {'professor': 'Dr. Benjamin Wilson',\n",
       "  'subject': 'Physics II',\n",
       "  'stars': 2,\n",
       "  'review': \"Dr. Wilson's lectures are hard to follow and he is not very responsive to student questions. The course content is difficult and the grading is strict.\"},\n",
       " {'professor': 'Dr. Isabella Martinez',\n",
       "  'subject': 'Creative Writing',\n",
       "  'stars': 5,\n",
       "  'review': 'Dr. Martinez is an exceptional professor who provides valuable feedback and fosters a supportive workshop environment. Highly recommend her for anyone interested in writing.'},\n",
       " {'professor': 'Dr. Noah Anderson',\n",
       "  'subject': 'Statistics',\n",
       "  'stars': 4,\n",
       "  'review': 'Dr. Anderson makes statistics approachable with clear explanations and helpful examples. The course is rigorous, but he provides good support throughout.'},\n",
       " {'professor': 'Dr. Ava Taylor',\n",
       "  'subject': 'Art History',\n",
       "  'stars': 3,\n",
       "  'review': 'Dr. Taylor is knowledgeable about art history but her lectures can be a bit monotonous. The material is interesting but the delivery could be improved.'},\n",
       " {'professor': 'Dr. Elijah Thomas',\n",
       "  'subject': 'Computer Science Fundamentals',\n",
       "  'stars': 4,\n",
       "  'review': 'Dr. Thomas is a solid professor with a knack for explaining complex topics in a simple way. The coursework is challenging, but his teaching is effective.'}]"
      ]
     },
     "execution_count": 26,
     "metadata": {},
     "output_type": "execute_result"
    }
   ],
   "source": [
    "import json\n",
    "data=json.load(open(\"reviews.json\"))\n",
    "data['reviews']"
   ]
  },
  {
   "cell_type": "code",
   "execution_count": 2,
   "metadata": {},
   "outputs": [
    {
     "ename": "NameError",
     "evalue": "name 'OpenAI' is not defined",
     "output_type": "error",
     "traceback": [
      "\u001b[0;31m---------------------------------------------------------------------------\u001b[0m",
      "\u001b[0;31mNameError\u001b[0m                                 Traceback (most recent call last)",
      "Cell \u001b[0;32mIn[2], line 3\u001b[0m\n\u001b[1;32m      1\u001b[0m processed_data\u001b[39m=\u001b[39m[]\n\u001b[0;32m----> 3\u001b[0m client \u001b[39m=\u001b[39m OpenAI()\n\u001b[1;32m      6\u001b[0m \u001b[39mfor\u001b[39;00m review \u001b[39min\u001b[39;00m data[\u001b[39m'\u001b[39m\u001b[39mreviews\u001b[39m\u001b[39m'\u001b[39m]:\n\u001b[1;32m      7\u001b[0m     response \u001b[39m=\u001b[39m client\u001b[39m.\u001b[39membeddings\u001b[39m.\u001b[39mcreate(\n\u001b[1;32m      8\u001b[0m         \u001b[39minput\u001b[39m\u001b[39m=\u001b[39mreview[\u001b[39m'\u001b[39m\u001b[39mreview\u001b[39m\u001b[39m'\u001b[39m],\n\u001b[1;32m      9\u001b[0m         model\u001b[39m=\u001b[39m\u001b[39m\"\u001b[39m\u001b[39mtext-embedding-3-small\u001b[39m\u001b[39m\"\u001b[39m,\n\u001b[1;32m     10\u001b[0m     )\n",
      "\u001b[0;31mNameError\u001b[0m: name 'OpenAI' is not defined"
     ]
    }
   ],
   "source": [
    "processed_data=[]\n",
    "\n",
    "client = OpenAI()\n",
    "\n",
    "\n",
    "for review in data['reviews']:\n",
    "    response = client.embeddings.create(\n",
    "        input=review['review'],\n",
    "        model=\"text-embedding-3-small\",\n",
    "    )\n",
    "    embedding = response.data[0].embedding\n",
    "    processed_data.append({\n",
    "        \"values\": embedding,\n",
    "        \"id\": review[\"professor\"],\n",
    "        \"metadata\":  {\n",
    "            review: review[\"review\"],\n",
    "            subject: review[\"review\"],\n",
    "            star: review[\"review \"]\n",
    "        }\n",
    "    }\n",
    "    )\n"
   ]
  },
  {
   "cell_type": "code",
   "execution_count": 21,
   "metadata": {},
   "outputs": [
    {
     "ename": "IndexError",
     "evalue": "list index out of range",
     "output_type": "error",
     "traceback": [
      "\u001b[0;31m---------------------------------------------------------------------------\u001b[0m",
      "\u001b[0;31mIndexError\u001b[0m                                Traceback (most recent call last)",
      "Cell \u001b[0;32mIn[21], line 1\u001b[0m\n\u001b[0;32m----> 1\u001b[0m processed_data[\u001b[39m0\u001b[39;49m]\n",
      "\u001b[0;31mIndexError\u001b[0m: list index out of range"
     ]
    }
   ],
   "source": [
    "processed_data[0]"
   ]
  },
  {
   "cell_type": "code",
   "execution_count": null,
   "metadata": {},
   "outputs": [],
   "source": [
    "index = px.Index(\"ai-rate-my-professor\")\n",
    "index.upsert(\n",
    "    vectors=processed_data,\n",
    "    namespace=\"ns1\" \n",
    ")"
   ]
  },
  {
   "cell_type": "code",
   "execution_count": null,
   "metadata": {},
   "outputs": [],
   "source": [
    "index.describe_index_stats() "
   ]
  }
 ],
 "metadata": {
  "kernelspec": {
   "display_name": "Python 3.10.4 ('ai-rate-my-professor')",
   "language": "python",
   "name": "python3"
  },
  "language_info": {
   "codemirror_mode": {
    "name": "ipython",
    "version": 3
   },
   "file_extension": ".py",
   "mimetype": "text/x-python",
   "name": "python",
   "nbconvert_exporter": "python",
   "pygments_lexer": "ipython3",
   "version": "3.10.14"
  },
  "orig_nbformat": 4,
  "vscode": {
   "interpreter": {
    "hash": "2cd20d521bc473e68eb117426aa0081b46d0814f9b95d355640207953f987377"
   }
  }
 },
 "nbformat": 4,
 "nbformat_minor": 2
}
